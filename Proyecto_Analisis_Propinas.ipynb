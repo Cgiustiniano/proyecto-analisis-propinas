{
 "cells": [
  {
   "cell_type": "code",
   "execution_count": null,
   "id": "92572c37",
   "metadata": {},
   "outputs": [],
   "source": [
    "# Importar librerías\n",
    "import pandas as pd\n",
    "import seaborn as sns\n",
    "import matplotlib.pyplot as plt\n",
    "import plotly.express as px\n",
    "\n",
    "# Configurar estilo visual\n",
    "sns.set(style=\"whitegrid\")\n",
    "plt.rcParams[\"figure.figsize\"] = (8, 5)"
   ]
  },
  {
   "cell_type": "code",
   "execution_count": null,
   "id": "a4a6e531",
   "metadata": {},
   "outputs": [],
   "source": [
    "# Cargar el dataset\n",
    "tips = sns.load_dataset(\"tips\")\n",
    "\n",
    "# Vista previa\n",
    "tips.head()"
   ]
  },
  {
   "cell_type": "code",
   "execution_count": null,
   "id": "617a1e64",
   "metadata": {},
   "outputs": [],
   "source": [
    "# Exploración de datos\n",
    "\n",
    "# Información general\n",
    "tips.info()\n",
    "\n",
    "# Estadísticas descriptivas\n",
    "tips.describe()\n",
    "\n",
    "# Valores únicos en columnas categóricas\n",
    "for col in [\"sex\", \"smoker\", \"day\", \"time\"]:\n",
    "    print(f\"{col}: {tips[col].unique()}\")"
   ]
  },
  {
   "cell_type": "code",
   "execution_count": null,
   "id": "d51f017a",
   "metadata": {},
   "outputs": [],
   "source": [
    "# Visualizaciones básicas\n",
    "\n",
    "# Histograma de propinas\n",
    "sns.histplot(tips[\"tip\"], bins=15, kde=True, color='teal')\n",
    "plt.title(\"Distribución de propinas\")\n",
    "plt.show()"
   ]
  },
  {
   "cell_type": "code",
   "execution_count": null,
   "id": "54fe680d",
   "metadata": {},
   "outputs": [],
   "source": [
    "# Boxplot por sexo\n",
    "sns.boxplot(x=\"sex\", y=\"tip\", data=tips, palette=\"Set2\")\n",
    "plt.title(\"Propinas por sexo\")\n",
    "plt.show()"
   ]
  },
  {
   "cell_type": "code",
   "execution_count": null,
   "id": "f21eb294",
   "metadata": {},
   "outputs": [],
   "source": [
    "# Scatterplot de cuenta vs propina\n",
    "sns.scatterplot(x=\"total_bill\", y=\"tip\", hue=\"smoker\", data=tips)\n",
    "plt.title(\"Cuenta total vs Propina\")\n",
    "plt.show()"
   ]
  },
  {
   "cell_type": "code",
   "execution_count": null,
   "id": "521cab53",
   "metadata": {},
   "outputs": [],
   "source": [
    "# Mapa de calor de correlación\n",
    "sns.heatmap(tips.corr(numeric_only=True), annot=True, cmap=\"coolwarm\")\n",
    "plt.title(\"Mapa de correlaciones\")\n",
    "plt.show()"
   ]
  },
  {
   "cell_type": "code",
   "execution_count": null,
   "id": "5d245c1d",
   "metadata": {},
   "outputs": [],
   "source": [
    "# Gráfico interactivo con Plotly\n",
    "\n",
    "fig = px.scatter(\n",
    "    tips,\n",
    "    x=\"total_bill\",\n",
    "    y=\"tip\",\n",
    "    color=\"sex\",\n",
    "    size=\"size\",\n",
    "    hover_data=[\"day\", \"smoker\"],\n",
    "    title=\"Cuenta vs Propina - Interactivo\"\n",
    ")\n",
    "fig.show()"
   ]
  },
  {
   "cell_type": "code",
   "execution_count": null,
   "id": "7f5e2593",
   "metadata": {},
   "outputs": [],
   "source": [
    "# Conclusiones\n",
    "\n",
    "from IPython.display import Markdown as md\n",
    "\n",
    "md(\"\"\"\n",
    "## Conclusiones del análisis\n",
    "\n",
    "- Las propinas tienden a aumentar con la cuenta total.\n",
    "- No hay una diferencia muy marcada entre fumadores y no fumadores.\n",
    "- Los hombres tienen una ligera tendencia a dejar más propina que las mujeres.\n",
    "- El domingo es el día con más actividad.\n",
    "- No se observan muchas propinas mayores al 7-8 USD.\n",
    "\"\"\")"
   ]
  }
 ],
 "metadata": {},
 "nbformat": 4,
 "nbformat_minor": 5
}
